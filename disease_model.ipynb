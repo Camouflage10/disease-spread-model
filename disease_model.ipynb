{
  "nbformat": 4,
  "nbformat_minor": 0,
  "metadata": {
    "colab": {
      "provenance": [],
      "collapsed_sections": [],
      "include_colab_link": true
    },
    "kernelspec": {
      "name": "python3",
      "display_name": "Python 3"
    },
    "language_info": {
      "name": "python"
    }
  },
  "cells": [
    {
      "cell_type": "markdown",
      "metadata": {
        "id": "view-in-github",
        "colab_type": "text"
      },
      "source": [
        "<a href=\"https://colab.research.google.com/github/Camouflage10/disease-spread-model/blob/Camouflage10-bagging/disease_model.ipynb\" target=\"_parent\"><img src=\"https://colab.research.google.com/assets/colab-badge.svg\" alt=\"Open In Colab\"/></a>"
      ]
    },
    {
      "cell_type": "code",
      "source": [
        "import numpy as np\n",
        "import matplotlib.pyplot as plt\n",
        "import pandas as pd\n",
        "import sklearn\n",
        "from sklearn.metrics import confusion_matrix, recall_score, precision_score\n",
        "import seaborn as sn\n",
        "import json\n",
        "from sklearn.model_selection import train_test_split, GridSearchCV\n",
        "from sklearn.svm import SVR\n",
        "from sklearn.ensemble import BaggingRegressor, BaggingClassifier\n",
        "from sklearn.datasets import make_regression\n",
        "from sklearn.metrics import mean_squared_error, accuracy_score, mean_absolute_error\n",
        "from sklearn.tree import DecisionTreeRegressor\n",
        "from sklearn.model_selection import cross_val_score, KFold\n"
      ],
      "metadata": {
        "id": "Y6O0hpYQgjkO"
      },
      "execution_count": 5,
      "outputs": []
    },
    {
      "cell_type": "code",
      "source": [
        "from matplotlib import text\n",
        "x = pd.read_csv('train_x.csv')\n",
        "y = pd.read_csv('dengue_labels_train.csv')\n",
        "y=y.drop(columns=['city','year','weekofyear'])\n",
        "test =pd.read_csv('test.csv')\n",
        "\n",
        "\n",
        "x['year']=x['year'].astype(int)\n",
        "x['city'].replace(['sj', 'iq'],[0, 1], inplace=True)\n",
        "x[['year2', 'month', 'day']] = x['week_start_date'].str.split('-', expand=True)\n",
        "x['month']=x['month'].astype(int)\n",
        "x['day']=x['day'].astype(int)\n",
        "x=x.drop(columns=['year2','week_start_date'])\n",
        "test_removed=test[['city', 'year', 'week_start_date']]\n",
        "test=test.drop(columns=['city', 'year', 'week_start_date'])\n",
        "print(len(x))\n",
        "print(len(y))\n",
        "x.isna().sum()"
      ],
      "metadata": {
        "id": "Xj8Gt3HQ2C8k",
        "colab": {
          "base_uri": "https://localhost:8080/"
        },
        "outputId": "823106e1-46e7-48ba-831e-670be80b2c6e"
      },
      "execution_count": 6,
      "outputs": [
        {
          "output_type": "stream",
          "name": "stdout",
          "text": [
            "1456\n",
            "1456\n"
          ]
        },
        {
          "output_type": "execute_result",
          "data": {
            "text/plain": [
              "Unnamed: 0                               0\n",
              "weekofyear                               0\n",
              "ndvi_ne                                  0\n",
              "ndvi_nw                                  0\n",
              "ndvi_se                                  0\n",
              "ndvi_sw                                  0\n",
              "reanalysis_air_temp_k                    0\n",
              "reanalysis_avg_temp_k                    0\n",
              "reanalysis_dew_point_temp_k              0\n",
              "reanalysis_max_air_temp_k                0\n",
              "reanalysis_min_air_temp_k                0\n",
              "reanalysis_relative_humidity_percent     0\n",
              "reanalysis_specific_humidity_g_per_kg    0\n",
              "reanalysis_tdtr_k                        0\n",
              "station_avg_temp_c                       0\n",
              "station_diur_temp_rng_c                  0\n",
              "station_min_temp_c                       0\n",
              "city                                     0\n",
              "year                                     0\n",
              "month                                    0\n",
              "day                                      0\n",
              "dtype: int64"
            ]
          },
          "metadata": {},
          "execution_count": 6
        }
      ]
    },
    {
      "cell_type": "code",
      "source": [
        "#tremove features with a corrilation of less than abs(mincorr)\n",
        "x['total_cases']=y['total_cases']\n",
        "minCorr=.2\n",
        "corrMatrix = x.corr()\n",
        "lastCol=corrMatrix['total_cases']\n",
        "x=x.drop(columns=['total_cases'])\n",
        "print(lastCol)\n",
        "features=list(lastCol.loc[abs(lastCol) > minCorr].index)\n",
        "features.remove('total_cases')\n",
        "print(features)\n",
        "x=x[features]\n",
        "corrMatrix = x.corr()\n",
        "for col in x.columns:\n",
        "  print(col+\":  \"+str(x[col].isna().sum()))"
      ],
      "metadata": {
        "colab": {
          "base_uri": "https://localhost:8080/"
        },
        "id": "f8jouwP8HcLl",
        "outputId": "ed275ed1-8d19-4670-860b-1a6c340e62e5"
      },
      "execution_count": 7,
      "outputs": [
        {
          "output_type": "stream",
          "name": "stdout",
          "text": [
            "Unnamed: 0                              -0.333340\n",
            "weekofyear                               0.216452\n",
            "ndvi_ne                                 -0.210937\n",
            "ndvi_nw                                 -0.184179\n",
            "ndvi_se                                 -0.232385\n",
            "ndvi_sw                                 -0.249576\n",
            "reanalysis_air_temp_k                    0.258385\n",
            "reanalysis_avg_temp_k                    0.146057\n",
            "reanalysis_dew_point_temp_k              0.135880\n",
            "reanalysis_max_air_temp_k               -0.190789\n",
            "reanalysis_min_air_temp_k                0.318676\n",
            "reanalysis_relative_humidity_percent    -0.132312\n",
            "reanalysis_specific_humidity_g_per_kg    0.124578\n",
            "reanalysis_tdtr_k                       -0.278156\n",
            "station_avg_temp_c                       0.113804\n",
            "station_diur_temp_rng_c                 -0.235323\n",
            "station_min_temp_c                       0.259204\n",
            "city                                    -0.292624\n",
            "year                                    -0.306806\n",
            "month                                    0.215737\n",
            "day                                     -0.022562\n",
            "total_cases                              1.000000\n",
            "Name: total_cases, dtype: float64\n",
            "['Unnamed: 0', 'weekofyear', 'ndvi_ne', 'ndvi_se', 'ndvi_sw', 'reanalysis_air_temp_k', 'reanalysis_min_air_temp_k', 'reanalysis_tdtr_k', 'station_diur_temp_rng_c', 'station_min_temp_c', 'city', 'year', 'month']\n",
            "Unnamed: 0:  0\n",
            "weekofyear:  0\n",
            "ndvi_ne:  0\n",
            "ndvi_se:  0\n",
            "ndvi_sw:  0\n",
            "reanalysis_air_temp_k:  0\n",
            "reanalysis_min_air_temp_k:  0\n",
            "reanalysis_tdtr_k:  0\n",
            "station_diur_temp_rng_c:  0\n",
            "station_min_temp_c:  0\n",
            "city:  0\n",
            "year:  0\n",
            "month:  0\n"
          ]
        }
      ]
    },
    {
      "cell_type": "code",
      "source": [
        "\n",
        "x_train, x_test, y_train, y_test = train_test_split(x, y, test_size=0.33)\n"
      ],
      "metadata": {
        "id": "98HdHEDzPqoC"
      },
      "execution_count": 8,
      "outputs": []
    },
    {
      "cell_type": "code",
      "source": [
        "\n",
        "#X, y = x_train.iloc[:,:-1],y_train.iloc[:,-1]\n",
        "df=pd.DataFrame()\n",
        "df['target']=y_test\n",
        "#bagging model\n",
        "\n",
        "bag = BaggingRegressor()\n",
        "#Setting values for the parameters\n",
        "n_estimators = [100, 300, 500]\n",
        "#max_depth = [5, 10, 15, 25, 30]\n",
        "max_features = [1, 5, 8]\n",
        "\n",
        "#Creating a dictionary for the hyper parameters\n",
        "hyperbag = dict(n_estimators = n_estimators, \n",
        "              max_features = max_features)\n",
        "\n",
        "#Applying GridSearchCV to get the best value for hyperparameters\n",
        "gridbag = GridSearchCV(bag, hyperbag, cv = 3, verbose = 1, n_jobs = -1)\n",
        "bestbag = gridbag.fit(x_train, y_train)\n",
        "bestbag.fit(x_train, y_train)\n",
        "preds = bestbag.predict(x_test)\n",
        "rmse = np.sqrt(mean_squared_error(y_test, preds))\n",
        "df['pred']=preds\n",
        "#scoring the model\n",
        "score = bestbag.score(x_train, y_train)\n",
        "print(\"Training Score: \", score)\n",
        "#MSE and RMSE\n",
        "preds = [round(value) for value in preds]\n",
        "mse = mean_squared_error(y_test, preds)\n",
        "print(\"MSE: %.2f\" % mse)\n",
        "rmse = np.sqrt(mean_squared_error(y_test, preds))\n",
        "mae= mean_absolute_error(y_test,preds)\n",
        "print(\"RMSE: %f\" % (rmse))\n",
        "print(\"MaE: %f\" % (mae))\n",
        "\n",
        "#accuracy score round preds\n",
        "round_preds=[round(num) for num in preds]\n",
        "accuracy = accuracy_score(y_test, round_preds)\n",
        "print(\"Accuracy: %.2f%%\" % (accuracy * 100.0))\n",
        "\n",
        "df"
      ],
      "metadata": {
        "colab": {
          "base_uri": "https://localhost:8080/",
          "height": 644
        },
        "id": "RjwldSIIjX9l",
        "outputId": "0e88c97d-7624-4efe-ff0e-68731d6490f3"
      },
      "execution_count": 9,
      "outputs": [
        {
          "output_type": "stream",
          "name": "stdout",
          "text": [
            "Fitting 3 folds for each of 9 candidates, totalling 27 fits\n"
          ]
        },
        {
          "output_type": "stream",
          "name": "stderr",
          "text": [
            "/usr/local/lib/python3.7/dist-packages/sklearn/ensemble/_bagging.py:429: DataConversionWarning: A column-vector y was passed when a 1d array was expected. Please change the shape of y to (n_samples, ), for example using ravel().\n",
            "  return column_or_1d(y, warn=True)\n"
          ]
        },
        {
          "output_type": "stream",
          "name": "stdout",
          "text": [
            "Fitting 3 folds for each of 9 candidates, totalling 27 fits\n"
          ]
        },
        {
          "output_type": "stream",
          "name": "stderr",
          "text": [
            "/usr/local/lib/python3.7/dist-packages/sklearn/ensemble/_bagging.py:429: DataConversionWarning: A column-vector y was passed when a 1d array was expected. Please change the shape of y to (n_samples, ), for example using ravel().\n",
            "  return column_or_1d(y, warn=True)\n"
          ]
        },
        {
          "output_type": "stream",
          "name": "stdout",
          "text": [
            "Training Score:  0.9578489176806239\n",
            "MSE: 474.80\n",
            "RMSE: 21.790011\n",
            "MaE: 11.478170\n",
            "Accuracy: 3.74%\n"
          ]
        },
        {
          "output_type": "execute_result",
          "data": {
            "text/plain": [
              "      target    pred\n",
              "247       46  37.310\n",
              "360       11  14.866\n",
              "643        6  40.888\n",
              "935        5  10.234\n",
              "1318      11  13.552\n",
              "...      ...     ...\n",
              "450       68  62.210\n",
              "23        33  54.758\n",
              "471       20  15.242\n",
              "841        4  22.440\n",
              "212       31  30.264\n",
              "\n",
              "[481 rows x 2 columns]"
            ],
            "text/html": [
              "\n",
              "  <div id=\"df-e5138a8a-4a19-4e36-b13b-7b2958a0d3e3\">\n",
              "    <div class=\"colab-df-container\">\n",
              "      <div>\n",
              "<style scoped>\n",
              "    .dataframe tbody tr th:only-of-type {\n",
              "        vertical-align: middle;\n",
              "    }\n",
              "\n",
              "    .dataframe tbody tr th {\n",
              "        vertical-align: top;\n",
              "    }\n",
              "\n",
              "    .dataframe thead th {\n",
              "        text-align: right;\n",
              "    }\n",
              "</style>\n",
              "<table border=\"1\" class=\"dataframe\">\n",
              "  <thead>\n",
              "    <tr style=\"text-align: right;\">\n",
              "      <th></th>\n",
              "      <th>target</th>\n",
              "      <th>pred</th>\n",
              "    </tr>\n",
              "  </thead>\n",
              "  <tbody>\n",
              "    <tr>\n",
              "      <th>247</th>\n",
              "      <td>46</td>\n",
              "      <td>37.310</td>\n",
              "    </tr>\n",
              "    <tr>\n",
              "      <th>360</th>\n",
              "      <td>11</td>\n",
              "      <td>14.866</td>\n",
              "    </tr>\n",
              "    <tr>\n",
              "      <th>643</th>\n",
              "      <td>6</td>\n",
              "      <td>40.888</td>\n",
              "    </tr>\n",
              "    <tr>\n",
              "      <th>935</th>\n",
              "      <td>5</td>\n",
              "      <td>10.234</td>\n",
              "    </tr>\n",
              "    <tr>\n",
              "      <th>1318</th>\n",
              "      <td>11</td>\n",
              "      <td>13.552</td>\n",
              "    </tr>\n",
              "    <tr>\n",
              "      <th>...</th>\n",
              "      <td>...</td>\n",
              "      <td>...</td>\n",
              "    </tr>\n",
              "    <tr>\n",
              "      <th>450</th>\n",
              "      <td>68</td>\n",
              "      <td>62.210</td>\n",
              "    </tr>\n",
              "    <tr>\n",
              "      <th>23</th>\n",
              "      <td>33</td>\n",
              "      <td>54.758</td>\n",
              "    </tr>\n",
              "    <tr>\n",
              "      <th>471</th>\n",
              "      <td>20</td>\n",
              "      <td>15.242</td>\n",
              "    </tr>\n",
              "    <tr>\n",
              "      <th>841</th>\n",
              "      <td>4</td>\n",
              "      <td>22.440</td>\n",
              "    </tr>\n",
              "    <tr>\n",
              "      <th>212</th>\n",
              "      <td>31</td>\n",
              "      <td>30.264</td>\n",
              "    </tr>\n",
              "  </tbody>\n",
              "</table>\n",
              "<p>481 rows × 2 columns</p>\n",
              "</div>\n",
              "      <button class=\"colab-df-convert\" onclick=\"convertToInteractive('df-e5138a8a-4a19-4e36-b13b-7b2958a0d3e3')\"\n",
              "              title=\"Convert this dataframe to an interactive table.\"\n",
              "              style=\"display:none;\">\n",
              "        \n",
              "  <svg xmlns=\"http://www.w3.org/2000/svg\" height=\"24px\"viewBox=\"0 0 24 24\"\n",
              "       width=\"24px\">\n",
              "    <path d=\"M0 0h24v24H0V0z\" fill=\"none\"/>\n",
              "    <path d=\"M18.56 5.44l.94 2.06.94-2.06 2.06-.94-2.06-.94-.94-2.06-.94 2.06-2.06.94zm-11 1L8.5 8.5l.94-2.06 2.06-.94-2.06-.94L8.5 2.5l-.94 2.06-2.06.94zm10 10l.94 2.06.94-2.06 2.06-.94-2.06-.94-.94-2.06-.94 2.06-2.06.94z\"/><path d=\"M17.41 7.96l-1.37-1.37c-.4-.4-.92-.59-1.43-.59-.52 0-1.04.2-1.43.59L10.3 9.45l-7.72 7.72c-.78.78-.78 2.05 0 2.83L4 21.41c.39.39.9.59 1.41.59.51 0 1.02-.2 1.41-.59l7.78-7.78 2.81-2.81c.8-.78.8-2.07 0-2.86zM5.41 20L4 18.59l7.72-7.72 1.47 1.35L5.41 20z\"/>\n",
              "  </svg>\n",
              "      </button>\n",
              "      \n",
              "  <style>\n",
              "    .colab-df-container {\n",
              "      display:flex;\n",
              "      flex-wrap:wrap;\n",
              "      gap: 12px;\n",
              "    }\n",
              "\n",
              "    .colab-df-convert {\n",
              "      background-color: #E8F0FE;\n",
              "      border: none;\n",
              "      border-radius: 50%;\n",
              "      cursor: pointer;\n",
              "      display: none;\n",
              "      fill: #1967D2;\n",
              "      height: 32px;\n",
              "      padding: 0 0 0 0;\n",
              "      width: 32px;\n",
              "    }\n",
              "\n",
              "    .colab-df-convert:hover {\n",
              "      background-color: #E2EBFA;\n",
              "      box-shadow: 0px 1px 2px rgba(60, 64, 67, 0.3), 0px 1px 3px 1px rgba(60, 64, 67, 0.15);\n",
              "      fill: #174EA6;\n",
              "    }\n",
              "\n",
              "    [theme=dark] .colab-df-convert {\n",
              "      background-color: #3B4455;\n",
              "      fill: #D2E3FC;\n",
              "    }\n",
              "\n",
              "    [theme=dark] .colab-df-convert:hover {\n",
              "      background-color: #434B5C;\n",
              "      box-shadow: 0px 1px 3px 1px rgba(0, 0, 0, 0.15);\n",
              "      filter: drop-shadow(0px 1px 2px rgba(0, 0, 0, 0.3));\n",
              "      fill: #FFFFFF;\n",
              "    }\n",
              "  </style>\n",
              "\n",
              "      <script>\n",
              "        const buttonEl =\n",
              "          document.querySelector('#df-e5138a8a-4a19-4e36-b13b-7b2958a0d3e3 button.colab-df-convert');\n",
              "        buttonEl.style.display =\n",
              "          google.colab.kernel.accessAllowed ? 'block' : 'none';\n",
              "\n",
              "        async function convertToInteractive(key) {\n",
              "          const element = document.querySelector('#df-e5138a8a-4a19-4e36-b13b-7b2958a0d3e3');\n",
              "          const dataTable =\n",
              "            await google.colab.kernel.invokeFunction('convertToInteractive',\n",
              "                                                     [key], {});\n",
              "          if (!dataTable) return;\n",
              "\n",
              "          const docLinkHtml = 'Like what you see? Visit the ' +\n",
              "            '<a target=\"_blank\" href=https://colab.research.google.com/notebooks/data_table.ipynb>data table notebook</a>'\n",
              "            + ' to learn more about interactive tables.';\n",
              "          element.innerHTML = '';\n",
              "          dataTable['output_type'] = 'display_data';\n",
              "          await google.colab.output.renderOutput(dataTable, element);\n",
              "          const docLink = document.createElement('div');\n",
              "          docLink.innerHTML = docLinkHtml;\n",
              "          element.appendChild(docLink);\n",
              "        }\n",
              "      </script>\n",
              "    </div>\n",
              "  </div>\n",
              "  "
            ]
          },
          "metadata": {},
          "execution_count": 9
        }
      ]
    },
    {
      "cell_type": "code",
      "source": [
        "from sklearn.ensemble import RandomForestRegressor\n",
        "\n",
        "bag = RandomForestRegressor()\n",
        "\n",
        "\n",
        "#Creating a dictionary for the hyper parameters\n",
        "grid_params={'n_estimators': [100,200],'max_features':['sqrt', 'log2', None]}\n",
        "\n",
        "#Applying GridSearchCV to get the best value for hyperparameters\n",
        "gridbag = GridSearchCV(bag, grid_params, cv = 3, verbose = 1, n_jobs = -1)\n",
        "bestbag = gridbag.fit(x_train, y_train)\n",
        "bestbag.fit(x_train, y_train)\n",
        "preds = bestbag.predict(x_test)\n",
        "rmse = np.sqrt(mean_squared_error(y_test, preds))\n",
        "df['pred']=preds\n",
        "#scoring the model\n",
        "score = bestbag.score(x_train, y_train)\n",
        "print(\"Training Score: \", score)\n",
        "#MSE and RMSE\n",
        "preds = [round(value) for value in preds]\n",
        "mse = mean_squared_error(y_test, preds)\n",
        "print(\"MSE: %.2f\" % mse)\n",
        "rmse = np.sqrt(mean_squared_error(y_test, preds))\n",
        "mae = mean_absolute_error(y_test,preds)\n",
        "print(\"RMSE: %f\" % (rmse))\n",
        "print(\"MaE: %f\" % (mae))\n",
        "\n",
        "#accuracy score round preds\n",
        "round_preds=[round(num) for num in preds]\n",
        "accuracy = accuracy_score(y_test, round_preds)\n",
        "print(\"Accuracy: %.2f%%\" % (accuracy * 100.0))"
      ],
      "metadata": {
        "colab": {
          "base_uri": "https://localhost:8080/"
        },
        "id": "hox9IPAUjvsb",
        "outputId": "a9226f29-9bb1-424d-b78f-1ba4ed2f0ace"
      },
      "execution_count": 10,
      "outputs": [
        {
          "output_type": "stream",
          "name": "stdout",
          "text": [
            "Fitting 3 folds for each of 6 candidates, totalling 18 fits\n"
          ]
        },
        {
          "output_type": "stream",
          "name": "stderr",
          "text": [
            "/usr/local/lib/python3.7/dist-packages/sklearn/model_selection/_search.py:926: DataConversionWarning: A column-vector y was passed when a 1d array was expected. Please change the shape of y to (n_samples,), for example using ravel().\n",
            "  self.best_estimator_.fit(X, y, **fit_params)\n"
          ]
        },
        {
          "output_type": "stream",
          "name": "stdout",
          "text": [
            "Fitting 3 folds for each of 6 candidates, totalling 18 fits\n"
          ]
        },
        {
          "output_type": "stream",
          "name": "stderr",
          "text": [
            "/usr/local/lib/python3.7/dist-packages/sklearn/model_selection/_search.py:926: DataConversionWarning: A column-vector y was passed when a 1d array was expected. Please change the shape of y to (n_samples,), for example using ravel().\n",
            "  self.best_estimator_.fit(X, y, **fit_params)\n"
          ]
        },
        {
          "output_type": "stream",
          "name": "stdout",
          "text": [
            "Training Score:  0.9580782394808042\n",
            "MSE: 535.13\n",
            "RMSE: 23.132808\n",
            "MaE: 12.033264\n",
            "Accuracy: 4.99%\n"
          ]
        }
      ]
    },
    {
      "cell_type": "code",
      "source": [
        "#create metrics.json (optional metrics.txt also)\n",
        "value = {\n",
        "        \"rmse\": rmse,\n",
        "        \"mae\": mae\n",
        "    }\n",
        "with open('metrics.json', 'w') as outfile:\n",
        "  outfile.write(json.dumps(value))"
      ],
      "metadata": {
        "id": "_cE0wRA2-66S"
      },
      "execution_count": 11,
      "outputs": []
    },
    {
      "cell_type": "code",
      "source": [
        "preds=np.array(preds)\n",
        "y_test=np.array(y_test)\n",
        "print(preds.shape)\n",
        "y_test=y_test.reshape(preds.shape)\n",
        "print(y_test.shape)\n",
        "error=y_test-preds\n",
        "print(error.shape)"
      ],
      "metadata": {
        "id": "BB1s_pbTIWQO",
        "colab": {
          "base_uri": "https://localhost:8080/"
        },
        "outputId": "bbcc7197-cd8b-46bb-bc4d-5a5c330636bc"
      },
      "execution_count": 12,
      "outputs": [
        {
          "output_type": "stream",
          "name": "stdout",
          "text": [
            "(481,)\n",
            "(481,)\n",
            "(481,)\n"
          ]
        }
      ]
    },
    {
      "cell_type": "code",
      "source": [
        "#visualization to see if it looks like it matches\n",
        "\n",
        "#error=error.reshape(error.shape[0]*error.shape[1],1)\n",
        "x_ax = range(len(y_test))\n",
        "plt.tight_layout()\n",
        "fig1 = plt.gcf()\n",
        "plt.hist(error, bins='auto')\n",
        "plt.title('error dist')\n",
        "plt.xlabel('error')\n",
        "plt.ylabel('count')\n",
        "plt.show()\n",
        "\n",
        "#create a graph called stats.png\n",
        "fig1.savefig('stats.png', dpi=100)"
      ],
      "metadata": {
        "colab": {
          "base_uri": "https://localhost:8080/",
          "height": 295
        },
        "id": "ZFHAZwiJ_Cvq",
        "outputId": "b5859b5a-50ee-443c-ce95-7364aef9b561"
      },
      "execution_count": 13,
      "outputs": [
        {
          "output_type": "display_data",
          "data": {
            "text/plain": [
              "<Figure size 432x288 with 1 Axes>"
            ],
            "image/png": "[encoded data removed]"
          },
          "metadata": {
            "needs_background": "light"
          }
        }
      ]
    },
    {
      "cell_type": "code",
      "source": [
        "#submit predictions for test\n",
        "def submit(model, test):\n",
        "  pred=model.predict(x)"
      ],
      "metadata": {
        "id": "ldiKV7IfAJ9T"
      },
      "execution_count": 14,
      "outputs": []
    },
    {
      "cell_type": "code",
      "source": [
        "print(x_test)"
      ],
      "metadata": {
        "id": "wROOwApLlWUn",
        "outputId": "bf9d8482-9e99-4ee6-f874-6b1ecbeb3bcd",
        "colab": {
          "base_uri": "https://localhost:8080/"
        }
      },
      "execution_count": 19,
      "outputs": [
        {
          "output_type": "stream",
          "name": "stdout",
          "text": [
            "      Unnamed: 0  weekofyear   ndvi_ne   ndvi_se   ndvi_sw  \\\n",
            "247          247         4.0  0.051750  0.177229  0.134071   \n",
            "360          360        14.0  0.134330  0.198317  0.191683   \n",
            "643          643        37.0  0.033000  0.231971  0.239957   \n",
            "935          935        17.0 -0.037000  0.077314  0.090586   \n",
            "1318        1318        45.0  0.333457  0.246900  0.331129   \n",
            "...          ...         ...       ...       ...       ...   \n",
            "450          450        52.0  0.060567  0.157150  0.098187   \n",
            "23            23        41.0  0.171150  0.179467  0.157717   \n",
            "471          471        20.0  0.084118  0.194471  0.169157   \n",
            "841          841        26.0  0.103500  0.133871  0.122943   \n",
            "212          212        21.0  0.117800  0.208471  0.208486   \n",
            "\n",
            "      reanalysis_air_temp_k  reanalysis_min_air_temp_k  reanalysis_tdtr_k  \\\n",
            "247              297.592857                      295.0           3.628571   \n",
            "360              297.692857                      295.5           2.685714   \n",
            "643              301.222857                      299.1           3.357143   \n",
            "935              298.672857                      295.9           3.957143   \n",
            "1318             299.478571                      294.3           9.485714   \n",
            "...                     ...                        ...                ...   \n",
            "450              299.282857                      298.0           2.128571   \n",
            "23               299.857143                      298.1           2.571429   \n",
            "471              299.775714                      297.0           3.185714   \n",
            "841              300.504286                      299.0           2.242857   \n",
            "212              299.941429                      297.7           2.885714   \n",
            "\n",
            "      station_diur_temp_rng_c  station_min_temp_c  city  year  month  \n",
            "247                  9.042857                20.6     0  1995      1  \n",
            "360                  7.457143                20.6     0  1997      4  \n",
            "643                  7.685714                24.4     0  2002      9  \n",
            "935                  7.514286                23.3     0  2008      4  \n",
            "1318                11.433333                22.5     1  2007     11  \n",
            "...                       ...                 ...   ...   ...    ...  \n",
            "450                  6.042857                22.2     0  1998     12  \n",
            "23                   7.314286                24.4     0  1990     10  \n",
            "471                  7.328571                23.3     0  1999      5  \n",
            "841                  6.814286                22.8     0  2006      7  \n",
            "212                  7.071429                24.4     0  1994      5  \n",
            "\n",
            "[481 rows x 13 columns]\n"
          ]
        }
      ]
    },
    {
      "cell_type": "code",
      "source": [
        "#submittable CSV file for predictions\n",
        "pred = bestbag.predict(x_test)\n",
        "submition=pd.DataFrame(x_test['year'])\n",
        "submition['weekofyear']=x_test['weekofyear']\n",
        "submition['city']=x_test['city']\n",
        "submition['total_cases']=pred\n",
        "submition.sort_values([\"year\",\"weekofyear\"],axis=0, ascending=True, inplace=True, na_position='first')\n",
        "submition.to_csv('submition.csv')"
      ],
      "metadata": {
        "id": "QkQ-o-W78_G-"
      },
      "execution_count": 36,
      "outputs": []
    }
  ]
}