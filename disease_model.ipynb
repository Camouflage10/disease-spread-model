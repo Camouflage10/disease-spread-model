{
  "nbformat": 4,
  "nbformat_minor": 0,
  "metadata": {
    "colab": {
      "provenance": [],
      "authorship_tag": "ABX9TyPVwtWtpTJDOvjQHmB9RRUb",
      "include_colab_link": true
    },
    "kernelspec": {
      "name": "python3",
      "display_name": "Python 3"
    },
    "language_info": {
      "name": "python"
    }
  },
  "cells": [
    {
      "cell_type": "markdown",
      "metadata": {
        "id": "view-in-github",
        "colab_type": "text"
      },
      "source": [
        "<a href=\"https://colab.research.google.com/github/Camouflage10/disease-spread-model/blob/main/disease_model.ipynb\" target=\"_parent\"><img src=\"https://colab.research.google.com/assets/colab-badge.svg\" alt=\"Open In Colab\"/></a>"
      ]
    },
    {
      "cell_type": "code",
      "execution_count": null,
      "metadata": {
        "id": "AXr1g-qFgZOo",
        "colab": {
          "base_uri": "https://localhost:8080/"
        },
        "outputId": "9fa78725-cc8c-4c91-91b4-a0406844fcdb"
      },
      "outputs": [
        {
          "output_type": "stream",
          "name": "stdout",
          "text": [
            "Looking in indexes: https://pypi.org/simple, https://us-python.pkg.dev/colab-wheels/public/simple/\n",
            "Collecting ruamel.yaml\n",
            "  Downloading ruamel.yaml-0.17.21-py3-none-any.whl (109 kB)\n",
            "\u001b[K     |████████████████████████████████| 109 kB 5.1 MB/s \n",
            "\u001b[?25hCollecting ruamel.yaml.clib>=0.2.6\n",
            "  Downloading ruamel.yaml.clib-0.2.6-cp37-cp37m-manylinux1_x86_64.whl (546 kB)\n",
            "\u001b[K     |████████████████████████████████| 546 kB 38.6 MB/s \n",
            "\u001b[?25hInstalling collected packages: ruamel.yaml.clib, ruamel.yaml\n",
            "Successfully installed ruamel.yaml-0.17.21 ruamel.yaml.clib-0.2.6\n"
          ]
        }
      ],
      "source": [
        "#comment out pips when uploading\n",
        "!pip install ruamel.yaml"
      ]
    },
    {
      "cell_type": "code",
      "source": [
        "import numpy as np\n",
        "from tensorflow import keras\n",
        "from keras.models import Sequential\n",
        "from keras.layers import Dense, LSTM, Dropout, Conv2D, MaxPooling2D, Flatten\n",
        "import matplotlib.pyplot as plt\n",
        "import pandas as pd\n",
        "from sklearn.metrics import confusion_matrix, recall_score, precision_score\n",
        "import seaborn as sns\n",
        "from ruamel.yaml import YAML\n",
        "import json"
      ],
      "metadata": {
        "id": "Y6O0hpYQgjkO"
      },
      "execution_count": null,
      "outputs": []
    },
    {
      "cell_type": "code",
      "source": [
        "def load_params():\n",
        "    \"Updates FULL_PARAMS with the values in params.yaml and returns all as a dictionary\"\n",
        "    yaml = YAML(typ=\"safe\")\n",
        "    with open(\"params.yaml\") as f:\n",
        "        params = yaml.load(f)\n",
        "    return params"
      ],
      "metadata": {
        "id": "WD_4QCTXgkni"
      },
      "execution_count": null,
      "outputs": []
    },
    {
      "cell_type": "code",
      "source": [
        "train = pd.read_csv ('dengue_features_train.csv')\n",
        "train_labels=pd.read_csv('dengue_labels_train.csv')\n",
        "test =pd.read_csv ('dengue_features_test.csv')"
      ],
      "metadata": {
        "id": "Xj8Gt3HQ2C8k"
      },
      "execution_count": null,
      "outputs": []
    },
    {
      "cell_type": "code",
      "source": [
        "#preprocessing"
      ],
      "metadata": {
        "id": "ru9h2j-4-rpk"
      },
      "execution_count": null,
      "outputs": []
    },
    {
      "cell_type": "code",
      "source": [
        "#model"
      ],
      "metadata": {
        "id": "MPfm2Amt-6y7"
      },
      "execution_count": null,
      "outputs": []
    },
    {
      "cell_type": "code",
      "source": [
        "#create metrics.json (optional metrics.txt also)\n",
        "value = {\n",
        "        \"loss\": 0,\n",
        "        \"rmse\": 0,\n",
        "    }\n",
        "with open('metrics.json', 'w') as outfile:\n",
        "  outfile.write(json.dumps(value))"
      ],
      "metadata": {
        "id": "_cE0wRA2-66S"
      },
      "execution_count": null,
      "outputs": []
    },
    {
      "cell_type": "code",
      "source": [
        "#create a graph called stats.png\n",
        "plt.tight_layout()\n",
        "fig1 = plt.gcf()\n",
        "fig1.savefig('stats.png', dpi=100)"
      ],
      "metadata": {
        "colab": {
          "base_uri": "https://localhost:8080/",
          "height": 35
        },
        "id": "ZFHAZwiJ_Cvq",
        "outputId": "e12dfb04-10fa-4fb9-d2ea-043a5ac2f783"
      },
      "execution_count": null,
      "outputs": [
        {
          "output_type": "display_data",
          "data": {
            "text/plain": [
              "<Figure size 432x288 with 0 Axes>"
            ]
          },
          "metadata": {}
        }
      ]
    },
    {
      "cell_type": "code",
      "source": [],
      "metadata": {
        "id": "ldiKV7IfAJ9T"
      },
      "execution_count": null,
      "outputs": []
    }
  ]
}