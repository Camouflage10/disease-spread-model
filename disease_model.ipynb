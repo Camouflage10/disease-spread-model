{
  "nbformat": 4,
  "nbformat_minor": 0,
  "metadata": {
    "colab": {
      "provenance": [],
      "collapsed_sections": [],
      "include_colab_link": true
    },
    "kernelspec": {
      "name": "python3",
      "display_name": "Python 3"
    },
    "language_info": {
      "name": "python"
    }
  },
  "cells": [
    {
      "cell_type": "markdown",
      "metadata": {
        "id": "view-in-github",
        "colab_type": "text"
      },
      "source": [
        "<a href=\"https://colab.research.google.com/github/Camouflage10/disease-spread-model/blob/Camouflage10-bagging/disease_model.ipynb\" target=\"_parent\"><img src=\"https://colab.research.google.com/assets/colab-badge.svg\" alt=\"Open In Colab\"/></a>"
      ]
    },
    {
      "cell_type": "code",
      "source": [
        "import numpy as np\n",
        "import matplotlib.pyplot as plt\n",
        "import pandas as pd\n",
        "import sklearn\n",
        "from sklearn.metrics import confusion_matrix, recall_score, precision_score\n",
        "import seaborn as sn\n",
        "import json\n",
        "from sklearn.model_selection import train_test_split, GridSearchCV\n",
        "from sklearn.svm import SVR\n",
        "from sklearn.ensemble import BaggingRegressor, BaggingClassifier\n",
        "from sklearn.datasets import make_regression\n",
        "from sklearn.metrics import mean_squared_error, accuracy_score, mean_absolute_error\n",
        "from sklearn.tree import DecisionTreeRegressor\n",
        "from sklearn.model_selection import cross_val_score, KFold\n"
      ],
      "metadata": {
        "id": "Y6O0hpYQgjkO"
      },
      "execution_count": 37,
      "outputs": []
    },
    {
      "cell_type": "code",
      "source": [
        "from matplotlib import text\n",
        "x = pd.read_csv('train_x.csv')\n",
        "y = pd.read_csv('dengue_labels_train.csv')\n",
        "y=y.drop(columns=['city','year','weekofyear'])\n",
        "test =pd.read_csv('test.csv')\n",
        "\n",
        "\n",
        "x['year']=x['year'].astype(int)\n",
        "x['city'].replace(['sj', 'iq'],[0, 1], inplace=True)\n",
        "x[['year2', 'month', 'day']] = x['week_start_date'].str.split('-', expand=True)\n",
        "x['month']=x['month'].astype(int)\n",
        "x['day']=x['day'].astype(int)\n",
        "x=x.drop(columns=['year2','week_start_date'])\n",
        "test_removed=test[['city', 'year', 'week_start_date']]\n",
        "test=test.drop(columns=['city', 'year', 'week_start_date'])\n",
        "print(len(x))\n",
        "print(len(y))\n",
        "x.isna().sum()"
      ],
      "metadata": {
        "id": "Xj8Gt3HQ2C8k",
        "colab": {
          "base_uri": "https://localhost:8080/"
        },
        "outputId": "1e9a416e-4899-4053-9df5-436cba51edb1"
      },
      "execution_count": 38,
      "outputs": [
        {
          "output_type": "stream",
          "name": "stdout",
          "text": [
            "1456\n",
            "1456\n"
          ]
        },
        {
          "output_type": "execute_result",
          "data": {
            "text/plain": [
              "Unnamed: 0                               0\n",
              "weekofyear                               0\n",
              "ndvi_ne                                  0\n",
              "ndvi_nw                                  0\n",
              "ndvi_se                                  0\n",
              "ndvi_sw                                  0\n",
              "reanalysis_air_temp_k                    0\n",
              "reanalysis_avg_temp_k                    0\n",
              "reanalysis_dew_point_temp_k              0\n",
              "reanalysis_max_air_temp_k                0\n",
              "reanalysis_min_air_temp_k                0\n",
              "reanalysis_relative_humidity_percent     0\n",
              "reanalysis_specific_humidity_g_per_kg    0\n",
              "reanalysis_tdtr_k                        0\n",
              "station_avg_temp_c                       0\n",
              "station_diur_temp_rng_c                  0\n",
              "station_min_temp_c                       0\n",
              "city                                     0\n",
              "year                                     0\n",
              "month                                    0\n",
              "day                                      0\n",
              "dtype: int64"
            ]
          },
          "metadata": {},
          "execution_count": 38
        }
      ]
    },
    {
      "cell_type": "code",
      "source": [
        "#tremove features with a corrilation of less than abs(mincorr)\n",
        "x['total_cases']=y['total_cases']\n",
        "minCorr=.2\n",
        "corrMatrix = x.corr()\n",
        "lastCol=corrMatrix['total_cases']\n",
        "x=x.drop(columns=['total_cases'])\n",
        "print(lastCol)\n",
        "features=list(lastCol.loc[abs(lastCol) > minCorr].index)\n",
        "features.remove('total_cases')\n",
        "print(features)\n",
        "x=x[features]\n",
        "corrMatrix = x.corr()\n",
        "for col in x.columns:\n",
        "  print(col+\":  \"+str(x[col].isna().sum()))"
      ],
      "metadata": {
        "colab": {
          "base_uri": "https://localhost:8080/"
        },
        "id": "f8jouwP8HcLl",
        "outputId": "18a2853b-efe2-4389-89cf-04a184fcea6a"
      },
      "execution_count": 39,
      "outputs": [
        {
          "output_type": "stream",
          "name": "stdout",
          "text": [
            "Unnamed: 0                              -0.333340\n",
            "weekofyear                               0.216452\n",
            "ndvi_ne                                 -0.210937\n",
            "ndvi_nw                                 -0.184179\n",
            "ndvi_se                                 -0.232385\n",
            "ndvi_sw                                 -0.249576\n",
            "reanalysis_air_temp_k                    0.258385\n",
            "reanalysis_avg_temp_k                    0.146057\n",
            "reanalysis_dew_point_temp_k              0.135880\n",
            "reanalysis_max_air_temp_k               -0.190789\n",
            "reanalysis_min_air_temp_k                0.318676\n",
            "reanalysis_relative_humidity_percent    -0.132312\n",
            "reanalysis_specific_humidity_g_per_kg    0.124578\n",
            "reanalysis_tdtr_k                       -0.278156\n",
            "station_avg_temp_c                       0.113804\n",
            "station_diur_temp_rng_c                 -0.235323\n",
            "station_min_temp_c                       0.259204\n",
            "city                                    -0.292624\n",
            "year                                    -0.306806\n",
            "month                                    0.215737\n",
            "day                                     -0.022562\n",
            "total_cases                              1.000000\n",
            "Name: total_cases, dtype: float64\n",
            "['Unnamed: 0', 'weekofyear', 'ndvi_ne', 'ndvi_se', 'ndvi_sw', 'reanalysis_air_temp_k', 'reanalysis_min_air_temp_k', 'reanalysis_tdtr_k', 'station_diur_temp_rng_c', 'station_min_temp_c', 'city', 'year', 'month']\n",
            "Unnamed: 0:  0\n",
            "weekofyear:  0\n",
            "ndvi_ne:  0\n",
            "ndvi_se:  0\n",
            "ndvi_sw:  0\n",
            "reanalysis_air_temp_k:  0\n",
            "reanalysis_min_air_temp_k:  0\n",
            "reanalysis_tdtr_k:  0\n",
            "station_diur_temp_rng_c:  0\n",
            "station_min_temp_c:  0\n",
            "city:  0\n",
            "year:  0\n",
            "month:  0\n"
          ]
        }
      ]
    },
    {
      "cell_type": "code",
      "source": [
        "\n",
        "x_train, x_test, y_train, y_test = train_test_split(x, y, test_size=0.33)\n"
      ],
      "metadata": {
        "id": "98HdHEDzPqoC"
      },
      "execution_count": 40,
      "outputs": []
    },
    {
      "cell_type": "code",
      "source": [
        "\n",
        "#X, y = x_train.iloc[:,:-1],y_train.iloc[:,-1]\n",
        "df=pd.DataFrame()\n",
        "df['target']=y_test\n",
        "#bagging model\n",
        "\n",
        "bag = BaggingRegressor()\n",
        "#Setting values for the parameters\n",
        "n_estimators = [100, 300, 500]\n",
        "#max_depth = [5, 10, 15, 25, 30]\n",
        "max_features = [1, 5, 8]\n",
        "\n",
        "#Creating a dictionary for the hyper parameters\n",
        "hyperbag = dict(n_estimators = n_estimators, \n",
        "              max_features = max_features)\n",
        "\n",
        "#Applying GridSearchCV to get the best value for hyperparameters\n",
        "gridbag = GridSearchCV(bag, hyperbag, cv = 3, verbose = 1, n_jobs = -1)\n",
        "bestbag = gridbag.fit(x_train, y_train)\n",
        "bestbag.fit(x_train, y_train)\n",
        "preds = bestbag.predict(x_test)\n",
        "rmse = np.sqrt(mean_squared_error(y_test, preds))\n",
        "df['pred']=preds\n",
        "#scoring the model\n",
        "score = bestbag.score(x_train, y_train)\n",
        "print(\"Training Score: \", score)\n",
        "#MSE and RMSE\n",
        "preds = [round(value) for value in preds]\n",
        "mse = mean_squared_error(y_test, preds)\n",
        "print(\"MSE: %.2f\" % mse)\n",
        "rmse = np.sqrt(mean_squared_error(y_test, preds))\n",
        "mae= mean_absolute_error(y_test,preds)\n",
        "print(\"RMSE: %f\" % (rmse))\n",
        "print(\"MaE: %f\" % (mae))\n",
        "\n",
        "#accuracy score round preds\n",
        "round_preds=[round(num) for num in preds]\n",
        "accuracy = accuracy_score(y_test, round_preds)\n",
        "print(\"Accuracy: %.2f%%\" % (accuracy * 100.0))\n",
        "\n",
        "df"
      ],
      "metadata": {
        "colab": {
          "base_uri": "https://localhost:8080/",
          "height": 644
        },
        "id": "RjwldSIIjX9l",
        "outputId": "ad73d55c-35cd-411c-ee60-ca08830b2466"
      },
      "execution_count": 41,
      "outputs": [
        {
          "output_type": "stream",
          "name": "stdout",
          "text": [
            "Fitting 3 folds for each of 9 candidates, totalling 27 fits\n"
          ]
        },
        {
          "output_type": "stream",
          "name": "stderr",
          "text": [
            "/usr/local/lib/python3.7/dist-packages/sklearn/ensemble/_bagging.py:429: DataConversionWarning: A column-vector y was passed when a 1d array was expected. Please change the shape of y to (n_samples, ), for example using ravel().\n",
            "  return column_or_1d(y, warn=True)\n"
          ]
        },
        {
          "output_type": "stream",
          "name": "stdout",
          "text": [
            "Fitting 3 folds for each of 9 candidates, totalling 27 fits\n"
          ]
        },
        {
          "output_type": "stream",
          "name": "stderr",
          "text": [
            "/usr/local/lib/python3.7/dist-packages/sklearn/ensemble/_bagging.py:429: DataConversionWarning: A column-vector y was passed when a 1d array was expected. Please change the shape of y to (n_samples, ), for example using ravel().\n",
            "  return column_or_1d(y, warn=True)\n"
          ]
        },
        {
          "output_type": "stream",
          "name": "stdout",
          "text": [
            "Training Score:  0.9634914827696643\n",
            "MSE: 623.20\n",
            "RMSE: 24.963882\n",
            "MaE: 11.494802\n",
            "Accuracy: 5.41%\n"
          ]
        },
        {
          "output_type": "execute_result",
          "data": {
            "text/plain": [
              "      target       pred\n",
              "48        16  16.380000\n",
              "887       10  43.546667\n",
              "380       21  48.320000\n",
              "169       22  26.413333\n",
              "498       34  36.996667\n",
              "...      ...        ...\n",
              "1041       7   5.316667\n",
              "394       49  64.156667\n",
              "584       16  14.850000\n",
              "1280       9  11.900000\n",
              "732       12   8.430000\n",
              "\n",
              "[481 rows x 2 columns]"
            ],
            "text/html": [
              "\n",
              "  <div id=\"df-3606caa0-6087-42f7-af6e-9328d4e7c165\">\n",
              "    <div class=\"colab-df-container\">\n",
              "      <div>\n",
              "<style scoped>\n",
              "    .dataframe tbody tr th:only-of-type {\n",
              "        vertical-align: middle;\n",
              "    }\n",
              "\n",
              "    .dataframe tbody tr th {\n",
              "        vertical-align: top;\n",
              "    }\n",
              "\n",
              "    .dataframe thead th {\n",
              "        text-align: right;\n",
              "    }\n",
              "</style>\n",
              "<table border=\"1\" class=\"dataframe\">\n",
              "  <thead>\n",
              "    <tr style=\"text-align: right;\">\n",
              "      <th></th>\n",
              "      <th>target</th>\n",
              "      <th>pred</th>\n",
              "    </tr>\n",
              "  </thead>\n",
              "  <tbody>\n",
              "    <tr>\n",
              "      <th>48</th>\n",
              "      <td>16</td>\n",
              "      <td>16.380000</td>\n",
              "    </tr>\n",
              "    <tr>\n",
              "      <th>887</th>\n",
              "      <td>10</td>\n",
              "      <td>43.546667</td>\n",
              "    </tr>\n",
              "    <tr>\n",
              "      <th>380</th>\n",
              "      <td>21</td>\n",
              "      <td>48.320000</td>\n",
              "    </tr>\n",
              "    <tr>\n",
              "      <th>169</th>\n",
              "      <td>22</td>\n",
              "      <td>26.413333</td>\n",
              "    </tr>\n",
              "    <tr>\n",
              "      <th>498</th>\n",
              "      <td>34</td>\n",
              "      <td>36.996667</td>\n",
              "    </tr>\n",
              "    <tr>\n",
              "      <th>...</th>\n",
              "      <td>...</td>\n",
              "      <td>...</td>\n",
              "    </tr>\n",
              "    <tr>\n",
              "      <th>1041</th>\n",
              "      <td>7</td>\n",
              "      <td>5.316667</td>\n",
              "    </tr>\n",
              "    <tr>\n",
              "      <th>394</th>\n",
              "      <td>49</td>\n",
              "      <td>64.156667</td>\n",
              "    </tr>\n",
              "    <tr>\n",
              "      <th>584</th>\n",
              "      <td>16</td>\n",
              "      <td>14.850000</td>\n",
              "    </tr>\n",
              "    <tr>\n",
              "      <th>1280</th>\n",
              "      <td>9</td>\n",
              "      <td>11.900000</td>\n",
              "    </tr>\n",
              "    <tr>\n",
              "      <th>732</th>\n",
              "      <td>12</td>\n",
              "      <td>8.430000</td>\n",
              "    </tr>\n",
              "  </tbody>\n",
              "</table>\n",
              "<p>481 rows × 2 columns</p>\n",
              "</div>\n",
              "      <button class=\"colab-df-convert\" onclick=\"convertToInteractive('df-3606caa0-6087-42f7-af6e-9328d4e7c165')\"\n",
              "              title=\"Convert this dataframe to an interactive table.\"\n",
              "              style=\"display:none;\">\n",
              "        \n",
              "  <svg xmlns=\"http://www.w3.org/2000/svg\" height=\"24px\"viewBox=\"0 0 24 24\"\n",
              "       width=\"24px\">\n",
              "    <path d=\"M0 0h24v24H0V0z\" fill=\"none\"/>\n",
              "    <path d=\"M18.56 5.44l.94 2.06.94-2.06 2.06-.94-2.06-.94-.94-2.06-.94 2.06-2.06.94zm-11 1L8.5 8.5l.94-2.06 2.06-.94-2.06-.94L8.5 2.5l-.94 2.06-2.06.94zm10 10l.94 2.06.94-2.06 2.06-.94-2.06-.94-.94-2.06-.94 2.06-2.06.94z\"/><path d=\"M17.41 7.96l-1.37-1.37c-.4-.4-.92-.59-1.43-.59-.52 0-1.04.2-1.43.59L10.3 9.45l-7.72 7.72c-.78.78-.78 2.05 0 2.83L4 21.41c.39.39.9.59 1.41.59.51 0 1.02-.2 1.41-.59l7.78-7.78 2.81-2.81c.8-.78.8-2.07 0-2.86zM5.41 20L4 18.59l7.72-7.72 1.47 1.35L5.41 20z\"/>\n",
              "  </svg>\n",
              "      </button>\n",
              "      \n",
              "  <style>\n",
              "    .colab-df-container {\n",
              "      display:flex;\n",
              "      flex-wrap:wrap;\n",
              "      gap: 12px;\n",
              "    }\n",
              "\n",
              "    .colab-df-convert {\n",
              "      background-color: #E8F0FE;\n",
              "      border: none;\n",
              "      border-radius: 50%;\n",
              "      cursor: pointer;\n",
              "      display: none;\n",
              "      fill: #1967D2;\n",
              "      height: 32px;\n",
              "      padding: 0 0 0 0;\n",
              "      width: 32px;\n",
              "    }\n",
              "\n",
              "    .colab-df-convert:hover {\n",
              "      background-color: #E2EBFA;\n",
              "      box-shadow: 0px 1px 2px rgba(60, 64, 67, 0.3), 0px 1px 3px 1px rgba(60, 64, 67, 0.15);\n",
              "      fill: #174EA6;\n",
              "    }\n",
              "\n",
              "    [theme=dark] .colab-df-convert {\n",
              "      background-color: #3B4455;\n",
              "      fill: #D2E3FC;\n",
              "    }\n",
              "\n",
              "    [theme=dark] .colab-df-convert:hover {\n",
              "      background-color: #434B5C;\n",
              "      box-shadow: 0px 1px 3px 1px rgba(0, 0, 0, 0.15);\n",
              "      filter: drop-shadow(0px 1px 2px rgba(0, 0, 0, 0.3));\n",
              "      fill: #FFFFFF;\n",
              "    }\n",
              "  </style>\n",
              "\n",
              "      <script>\n",
              "        const buttonEl =\n",
              "          document.querySelector('#df-3606caa0-6087-42f7-af6e-9328d4e7c165 button.colab-df-convert');\n",
              "        buttonEl.style.display =\n",
              "          google.colab.kernel.accessAllowed ? 'block' : 'none';\n",
              "\n",
              "        async function convertToInteractive(key) {\n",
              "          const element = document.querySelector('#df-3606caa0-6087-42f7-af6e-9328d4e7c165');\n",
              "          const dataTable =\n",
              "            await google.colab.kernel.invokeFunction('convertToInteractive',\n",
              "                                                     [key], {});\n",
              "          if (!dataTable) return;\n",
              "\n",
              "          const docLinkHtml = 'Like what you see? Visit the ' +\n",
              "            '<a target=\"_blank\" href=https://colab.research.google.com/notebooks/data_table.ipynb>data table notebook</a>'\n",
              "            + ' to learn more about interactive tables.';\n",
              "          element.innerHTML = '';\n",
              "          dataTable['output_type'] = 'display_data';\n",
              "          await google.colab.output.renderOutput(dataTable, element);\n",
              "          const docLink = document.createElement('div');\n",
              "          docLink.innerHTML = docLinkHtml;\n",
              "          element.appendChild(docLink);\n",
              "        }\n",
              "      </script>\n",
              "    </div>\n",
              "  </div>\n",
              "  "
            ]
          },
          "metadata": {},
          "execution_count": 41
        }
      ]
    },
    {
      "cell_type": "code",
      "source": [
        "from sklearn.ensemble import RandomForestRegressor\n",
        "\n",
        "bag = RandomForestRegressor()\n",
        "\n",
        "\n",
        "#Creating a dictionary for the hyper parameters\n",
        "grid_params={'n_estimators': [100,200],'max_features':['sqrt', 'log2', None]}\n",
        "\n",
        "#Applying GridSearchCV to get the best value for hyperparameters\n",
        "gridbag = GridSearchCV(bag, grid_params, cv = 3, verbose = 1, n_jobs = -1)\n",
        "bestbag = gridbag.fit(x_train, y_train)\n",
        "bestbag.fit(x_train, y_train)\n",
        "preds = bestbag.predict(x_test)\n",
        "rmse = np.sqrt(mean_squared_error(y_test, preds))\n",
        "df['pred']=preds\n",
        "#scoring the model\n",
        "score = bestbag.score(x_train, y_train)\n",
        "print(\"Training Score: \", score)\n",
        "#MSE and RMSE\n",
        "preds = [round(value) for value in preds]\n",
        "mse = mean_squared_error(y_test, preds)\n",
        "print(\"MSE: %.2f\" % mse)\n",
        "rmse = np.sqrt(mean_squared_error(y_test, preds))\n",
        "mae = mean_absolute_error(y_test,preds)\n",
        "print(\"RMSE: %f\" % (rmse))\n",
        "print(\"MaE: %f\" % (mae))\n",
        "\n",
        "#accuracy score round preds\n",
        "round_preds=[round(num) for num in preds]\n",
        "accuracy = accuracy_score(y_test, round_preds)\n",
        "print(\"Accuracy: %.2f%%\" % (accuracy * 100.0))"
      ],
      "metadata": {
        "colab": {
          "base_uri": "https://localhost:8080/"
        },
        "id": "hox9IPAUjvsb",
        "outputId": "8892f0e7-40fd-4442-ad3a-6d990430dd71"
      },
      "execution_count": 42,
      "outputs": [
        {
          "output_type": "stream",
          "name": "stdout",
          "text": [
            "Fitting 3 folds for each of 6 candidates, totalling 18 fits\n"
          ]
        },
        {
          "output_type": "stream",
          "name": "stderr",
          "text": [
            "/usr/local/lib/python3.7/dist-packages/sklearn/model_selection/_search.py:926: DataConversionWarning: A column-vector y was passed when a 1d array was expected. Please change the shape of y to (n_samples,), for example using ravel().\n",
            "  self.best_estimator_.fit(X, y, **fit_params)\n"
          ]
        },
        {
          "output_type": "stream",
          "name": "stdout",
          "text": [
            "Fitting 3 folds for each of 6 candidates, totalling 18 fits\n"
          ]
        },
        {
          "output_type": "stream",
          "name": "stderr",
          "text": [
            "/usr/local/lib/python3.7/dist-packages/sklearn/model_selection/_search.py:926: DataConversionWarning: A column-vector y was passed when a 1d array was expected. Please change the shape of y to (n_samples,), for example using ravel().\n",
            "  self.best_estimator_.fit(X, y, **fit_params)\n"
          ]
        },
        {
          "output_type": "stream",
          "name": "stdout",
          "text": [
            "Training Score:  0.9565194390087125\n",
            "MSE: 710.46\n",
            "RMSE: 26.654445\n",
            "MaE: 12.530146\n",
            "Accuracy: 5.20%\n"
          ]
        }
      ]
    },
    {
      "cell_type": "code",
      "source": [
        "#create metrics.json (optional metrics.txt also)\n",
        "value = {\n",
        "        \"rmse\": rmse,\n",
        "        \"mae\": mae\n",
        "    }\n",
        "with open('metrics.json', 'w') as outfile:\n",
        "  outfile.write(json.dumps(value))"
      ],
      "metadata": {
        "id": "_cE0wRA2-66S"
      },
      "execution_count": 43,
      "outputs": []
    },
    {
      "cell_type": "code",
      "source": [
        "preds=np.array(preds)\n",
        "y_test=np.array(y_test)\n",
        "print(preds.shape)\n",
        "y_test=y_test.reshape(preds.shape)\n",
        "print(y_test.shape)\n",
        "error=y_test-preds\n",
        "print(error.shape)"
      ],
      "metadata": {
        "id": "BB1s_pbTIWQO",
        "colab": {
          "base_uri": "https://localhost:8080/"
        },
        "outputId": "ce19c5c8-db67-485f-a019-7b9a8ae8255c"
      },
      "execution_count": 44,
      "outputs": [
        {
          "output_type": "stream",
          "name": "stdout",
          "text": [
            "(481,)\n",
            "(481,)\n",
            "(481,)\n"
          ]
        }
      ]
    },
    {
      "cell_type": "code",
      "source": [
        "#visualization to see if it looks like it matches\n",
        "\n",
        "#error=error.reshape(error.shape[0]*error.shape[1],1)\n",
        "x_ax = range(len(y_test))\n",
        "plt.tight_layout()\n",
        "fig1 = plt.gcf()\n",
        "plt.hist(error, bins='auto')\n",
        "plt.title('error dist')\n",
        "plt.xlabel('error')\n",
        "plt.ylabel('count')\n",
        "plt.show()\n",
        "\n",
        "#create a graph called stats.png\n",
        "fig1.savefig('stats.png', dpi=100)"
      ],
      "metadata": {
        "colab": {
          "base_uri": "https://localhost:8080/",
          "height": 295
        },
        "id": "ZFHAZwiJ_Cvq",
        "outputId": "bce942a5-1496-4624-e758-a8792084637b"
      },
      "execution_count": 45,
      "outputs": [
        {
          "output_type": "display_data",
          "data": {
            "text/plain": [
              "<Figure size 432x288 with 1 Axes>"
            ],
            "image/png": "[encoded data removed]"
          },
          "metadata": {
            "needs_background": "light"
          }
        }
      ]
    },
    {
      "cell_type": "code",
      "source": [
        "#submit predictions for test\n",
        "def submit(model, test):\n",
        "  pred=model.predict(x)"
      ],
      "metadata": {
        "id": "ldiKV7IfAJ9T"
      },
      "execution_count": 46,
      "outputs": []
    },
    {
      "cell_type": "code",
      "source": [
        "#submittable CSV file for predictions\n",
        "pred = bestbag.predict(x_test)\n",
        "submission=pd.DataFrame(x_test['year'])\n",
        "submission['weekofyear']=x_test['weekofyear']\n",
        "submission['city']=x_test['city']\n",
        "submission['total_cases']=pred\n",
        "submission.sort_values([\"year\",\"weekofyear\"],axis=0, ascending=True, inplace=True, na_position='first')\n",
        "submission.to_csv('submission.csv')"
      ],
      "metadata": {
        "id": "QkQ-o-W78_G-"
      },
      "execution_count": 48,
      "outputs": []
    }
  ]
}