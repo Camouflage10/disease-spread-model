{
  "nbformat": 4,
  "nbformat_minor": 0,
  "metadata": {
    "colab": {
      "provenance": [],
      "collapsed_sections": [],
      "authorship_tag": "ABX9TyP4wwLh83cU4Rddh5wDoP7i",
      "include_colab_link": true
    },
    "kernelspec": {
      "name": "python3",
      "display_name": "Python 3"
    },
    "language_info": {
      "name": "python"
    }
  },
  "cells": [
    {
      "cell_type": "markdown",
      "metadata": {
        "id": "view-in-github",
        "colab_type": "text"
      },
      "source": [
        "<a href=\"https://colab.research.google.com/github/Camouflage10/disease-spread-model/blob/Camouflage10-bagging/disease_model.ipynb\" target=\"_parent\"><img src=\"https://colab.research.google.com/assets/colab-badge.svg\" alt=\"Open In Colab\"/></a>"
      ]
    },
    {
      "cell_type": "code",
      "source": [
        "import numpy as np\n",
        "import matplotlib.pyplot as plt\n",
        "import pandas as pd\n",
        "from sklearn.metrics import confusion_matrix, recall_score, precision_score\n",
        "import seaborn as sn\n",
        "import json"
      ],
      "metadata": {
        "id": "Y6O0hpYQgjkO"
      },
      "execution_count": 25,
      "outputs": []
    },
    {
      "cell_type": "code",
      "source": [
        "from matplotlib import text\n",
        "x = pd.read_csv('train_x.csv')\n",
        "y = pd.read_csv('dengue_labels_train.csv')\n",
        "y=y.drop(columns=['city','year','weekofyear'])\n",
        "test =pd.read_csv('test.csv')\n",
        "print(len(x))\n",
        "print(len(y))"
      ],
      "metadata": {
        "id": "Xj8Gt3HQ2C8k",
        "colab": {
          "base_uri": "https://localhost:8080/"
        },
        "outputId": "399ac3b2-814a-4bea-c284-038a281df9cd"
      },
      "execution_count": 31,
      "outputs": [
        {
          "output_type": "stream",
          "name": "stdout",
          "text": [
            "1456\n",
            "1456\n"
          ]
        }
      ]
    },
    {
      "cell_type": "code",
      "source": [
        "test_removed=test[['city', 'year', 'week_start_date']]\n",
        "test=test.drop(columns=['city', 'year', 'week_start_date'])"
      ],
      "metadata": {
        "id": "98HdHEDzPqoC"
      },
      "execution_count": 32,
      "outputs": []
    },
    {
      "cell_type": "code",
      "source": [
        "from sklearn.model_selection import train_test_split, GridSearchCV\n",
        "from sklearn.svm import SVR\n",
        "from sklearn.ensemble import BaggingRegressor, BaggingClassifier\n",
        "from sklearn.datasets import make_regression\n",
        "from sklearn.metrics import mean_squared_error, accuracy_score, roc_auc_score\n",
        "from sklearn.tree import DecisionTreeRegressor\n",
        "from sklearn.model_selection import cross_val_score, KFold\n",
        "\n",
        "#X, y = x_train.iloc[:,:-1],y_train.iloc[:,-1]\n",
        "x_train, x_test, y_train, y_test = train_test_split(x, y, test_size=0.33)\n",
        "\n",
        "#bagging model\n",
        "\n",
        "dt_model = DecisionTreeRegressor()\n",
        "X, y = make_regression(n_samples=1000, n_informative=15, noise=0.1, random_state=1)\n",
        "bagModel = BaggingRegressor(dt_model, n_estimators=22, max_features=1.0)\n",
        "bagModel.fit(x_train, y_train)\n",
        "preds = bagModel.predict(x_test)\n",
        "rmse = np.sqrt(mean_squared_error(y_test, preds))\n",
        "print(\"RMSE: %f\" % (rmse))\n",
        "\n",
        "#scoring the model\n",
        "score = bagModel.score(x_train, y_train)\n",
        "print(\"Training Score: \", score)\n",
        "\n",
        "#cross-val score\n",
        "scores = cross_val_score(bagModel, x_train, y_train, cv=10)\n",
        "print(\"Mean cross-val score: %.2f\" % scores.mean())\n",
        "\n",
        "#K-Fold cross-val\n",
        "kfold = KFold(n_splits=10, shuffle=True)\n",
        "kf_cv_scores = cross_val_score(bagModel, x_train, y_train, cv=kfold )\n",
        "print(\"K-fold CV average score: %.2f\" % kf_cv_scores.mean())\n",
        "\n",
        "#MSE and RMSE\n",
        "preds = bagModel.predict(x_test)\n",
        "preds = [round(value) for value in preds]\n",
        "mse = mean_squared_error(y_test, preds)\n",
        "print(\"MSE: %.2f\" % mse)\n",
        "rmse = np.sqrt(mean_squared_error(y_test, preds))\n",
        "print(\"RMSE: %f\" % (rmse))\n",
        "\n",
        "#accuracy score round preds\n",
        "accuracy = accuracy_score(y_test, preds)\n",
        "print(\"Accuracy: %.2f%%\" % (accuracy * 100.0))"
      ],
      "metadata": {
        "colab": {
          "base_uri": "https://localhost:8080/"
        },
        "id": "RjwldSIIjX9l",
        "outputId": "fddd7b10-1008-45df-fd1d-144e030c12d5"
      },
      "execution_count": 33,
      "outputs": [
        {
          "output_type": "stream",
          "name": "stderr",
          "text": [
            "/usr/local/lib/python3.7/dist-packages/sklearn/ensemble/_bagging.py:429: DataConversionWarning: A column-vector y was passed when a 1d array was expected. Please change the shape of y to (n_samples, ), for example using ravel().\n",
            "  return column_or_1d(y, warn=True)\n"
          ]
        },
        {
          "output_type": "stream",
          "name": "stdout",
          "text": [
            "RMSE: 17.434892\n",
            "Training Score:  0.9652437605904012\n"
          ]
        },
        {
          "output_type": "stream",
          "name": "stderr",
          "text": [
            "/usr/local/lib/python3.7/dist-packages/sklearn/ensemble/_bagging.py:429: DataConversionWarning: A column-vector y was passed when a 1d array was expected. Please change the shape of y to (n_samples, ), for example using ravel().\n",
            "  return column_or_1d(y, warn=True)\n",
            "/usr/local/lib/python3.7/dist-packages/sklearn/ensemble/_bagging.py:429: DataConversionWarning: A column-vector y was passed when a 1d array was expected. Please change the shape of y to (n_samples, ), for example using ravel().\n",
            "  return column_or_1d(y, warn=True)\n",
            "/usr/local/lib/python3.7/dist-packages/sklearn/ensemble/_bagging.py:429: DataConversionWarning: A column-vector y was passed when a 1d array was expected. Please change the shape of y to (n_samples, ), for example using ravel().\n",
            "  return column_or_1d(y, warn=True)\n",
            "/usr/local/lib/python3.7/dist-packages/sklearn/ensemble/_bagging.py:429: DataConversionWarning: A column-vector y was passed when a 1d array was expected. Please change the shape of y to (n_samples, ), for example using ravel().\n",
            "  return column_or_1d(y, warn=True)\n",
            "/usr/local/lib/python3.7/dist-packages/sklearn/ensemble/_bagging.py:429: DataConversionWarning: A column-vector y was passed when a 1d array was expected. Please change the shape of y to (n_samples, ), for example using ravel().\n",
            "  return column_or_1d(y, warn=True)\n",
            "/usr/local/lib/python3.7/dist-packages/sklearn/ensemble/_bagging.py:429: DataConversionWarning: A column-vector y was passed when a 1d array was expected. Please change the shape of y to (n_samples, ), for example using ravel().\n",
            "  return column_or_1d(y, warn=True)\n",
            "/usr/local/lib/python3.7/dist-packages/sklearn/ensemble/_bagging.py:429: DataConversionWarning: A column-vector y was passed when a 1d array was expected. Please change the shape of y to (n_samples, ), for example using ravel().\n",
            "  return column_or_1d(y, warn=True)\n",
            "/usr/local/lib/python3.7/dist-packages/sklearn/ensemble/_bagging.py:429: DataConversionWarning: A column-vector y was passed when a 1d array was expected. Please change the shape of y to (n_samples, ), for example using ravel().\n",
            "  return column_or_1d(y, warn=True)\n",
            "/usr/local/lib/python3.7/dist-packages/sklearn/ensemble/_bagging.py:429: DataConversionWarning: A column-vector y was passed when a 1d array was expected. Please change the shape of y to (n_samples, ), for example using ravel().\n",
            "  return column_or_1d(y, warn=True)\n",
            "/usr/local/lib/python3.7/dist-packages/sklearn/ensemble/_bagging.py:429: DataConversionWarning: A column-vector y was passed when a 1d array was expected. Please change the shape of y to (n_samples, ), for example using ravel().\n",
            "  return column_or_1d(y, warn=True)\n"
          ]
        },
        {
          "output_type": "stream",
          "name": "stdout",
          "text": [
            "Mean cross-val score: 0.76\n"
          ]
        },
        {
          "output_type": "stream",
          "name": "stderr",
          "text": [
            "/usr/local/lib/python3.7/dist-packages/sklearn/ensemble/_bagging.py:429: DataConversionWarning: A column-vector y was passed when a 1d array was expected. Please change the shape of y to (n_samples, ), for example using ravel().\n",
            "  return column_or_1d(y, warn=True)\n",
            "/usr/local/lib/python3.7/dist-packages/sklearn/ensemble/_bagging.py:429: DataConversionWarning: A column-vector y was passed when a 1d array was expected. Please change the shape of y to (n_samples, ), for example using ravel().\n",
            "  return column_or_1d(y, warn=True)\n",
            "/usr/local/lib/python3.7/dist-packages/sklearn/ensemble/_bagging.py:429: DataConversionWarning: A column-vector y was passed when a 1d array was expected. Please change the shape of y to (n_samples, ), for example using ravel().\n",
            "  return column_or_1d(y, warn=True)\n",
            "/usr/local/lib/python3.7/dist-packages/sklearn/ensemble/_bagging.py:429: DataConversionWarning: A column-vector y was passed when a 1d array was expected. Please change the shape of y to (n_samples, ), for example using ravel().\n",
            "  return column_or_1d(y, warn=True)\n",
            "/usr/local/lib/python3.7/dist-packages/sklearn/ensemble/_bagging.py:429: DataConversionWarning: A column-vector y was passed when a 1d array was expected. Please change the shape of y to (n_samples, ), for example using ravel().\n",
            "  return column_or_1d(y, warn=True)\n",
            "/usr/local/lib/python3.7/dist-packages/sklearn/ensemble/_bagging.py:429: DataConversionWarning: A column-vector y was passed when a 1d array was expected. Please change the shape of y to (n_samples, ), for example using ravel().\n",
            "  return column_or_1d(y, warn=True)\n",
            "/usr/local/lib/python3.7/dist-packages/sklearn/ensemble/_bagging.py:429: DataConversionWarning: A column-vector y was passed when a 1d array was expected. Please change the shape of y to (n_samples, ), for example using ravel().\n",
            "  return column_or_1d(y, warn=True)\n",
            "/usr/local/lib/python3.7/dist-packages/sklearn/ensemble/_bagging.py:429: DataConversionWarning: A column-vector y was passed when a 1d array was expected. Please change the shape of y to (n_samples, ), for example using ravel().\n",
            "  return column_or_1d(y, warn=True)\n",
            "/usr/local/lib/python3.7/dist-packages/sklearn/ensemble/_bagging.py:429: DataConversionWarning: A column-vector y was passed when a 1d array was expected. Please change the shape of y to (n_samples, ), for example using ravel().\n",
            "  return column_or_1d(y, warn=True)\n",
            "/usr/local/lib/python3.7/dist-packages/sklearn/ensemble/_bagging.py:429: DataConversionWarning: A column-vector y was passed when a 1d array was expected. Please change the shape of y to (n_samples, ), for example using ravel().\n",
            "  return column_or_1d(y, warn=True)\n"
          ]
        },
        {
          "output_type": "stream",
          "name": "stdout",
          "text": [
            "K-fold CV average score: 0.63\n",
            "MSE: 303.92\n",
            "RMSE: 17.433211\n",
            "Accuracy: 6.24%\n"
          ]
        }
      ]
    },
    {
      "cell_type": "code",
      "source": [
        "bagModel.get_params()"
      ],
      "metadata": {
        "colab": {
          "base_uri": "https://localhost:8080/"
        },
        "id": "m72DU7z-jqHP",
        "outputId": "ae615021-f6e4-453c-a93e-16c7af42b4d5"
      },
      "execution_count": 34,
      "outputs": [
        {
          "output_type": "execute_result",
          "data": {
            "text/plain": [
              "{'base_estimator__ccp_alpha': 0.0,\n",
              " 'base_estimator__criterion': 'squared_error',\n",
              " 'base_estimator__max_depth': None,\n",
              " 'base_estimator__max_features': None,\n",
              " 'base_estimator__max_leaf_nodes': None,\n",
              " 'base_estimator__min_impurity_decrease': 0.0,\n",
              " 'base_estimator__min_samples_leaf': 1,\n",
              " 'base_estimator__min_samples_split': 2,\n",
              " 'base_estimator__min_weight_fraction_leaf': 0.0,\n",
              " 'base_estimator__random_state': None,\n",
              " 'base_estimator__splitter': 'best',\n",
              " 'base_estimator': DecisionTreeRegressor(),\n",
              " 'bootstrap': True,\n",
              " 'bootstrap_features': False,\n",
              " 'max_features': 1.0,\n",
              " 'max_samples': 1.0,\n",
              " 'n_estimators': 22,\n",
              " 'n_jobs': None,\n",
              " 'oob_score': False,\n",
              " 'random_state': None,\n",
              " 'verbose': 0,\n",
              " 'warm_start': False}"
            ]
          },
          "metadata": {},
          "execution_count": 34
        }
      ]
    },
    {
      "cell_type": "code",
      "source": [
        "#Fitting Bagging Classifier model with default hyper parameters\n",
        "bagg = BaggingClassifier()\n",
        "bagg.fit(x_train,y_train)\n",
        "pred_bagg = bagg.predict(x_test)\n",
        "\n",
        "#Checking different metrics for bagging model with default hyper parameters\n",
        "print('Checking different metrics for bagging model with default hyper parameters:\\n')\n",
        "print(\"Training accuracy: \",bagg.score(x_train,y_train))\n",
        "acc_score = accuracy_score(y_test, pred_bagg)\n",
        "print('Testing accuracy: ',acc_score)\n",
        "\n",
        "#Setting values for the parameters\n",
        "n_estimators = [100, 300, 500]\n",
        "#max_depth = [5, 10, 15, 25, 30]\n",
        "max_samples = [ 50, 100, 150]\n",
        "max_features = [1, 5, 8]\n",
        "\n",
        "#Creating a dictionary for the hyper parameters\n",
        "hyperbag = dict(n_estimators = n_estimators, max_samples = max_samples, \n",
        "              max_features = max_features)\n",
        "\n",
        "#Applying GridSearchCV to get the best value for hyperparameters\n",
        "gridbag = GridSearchCV(bagg, hyperbag, cv = 3, verbose = 1, n_jobs = -1)\n",
        "bestbag = gridbag.fit(x_train, y_train)\n",
        "pred_bagg = bestbag.predict(x_test)\n",
        "acc_score = accuracy_score(y_test, pred_bagg)\n",
        "print('Testing accuracy: ',acc_score)\n",
        "#Printing the best hyperparameters\n",
        "print('The best hyper parameters are:\\n',gridbag.best_params_)"
      ],
      "metadata": {
        "colab": {
          "base_uri": "https://localhost:8080/"
        },
        "id": "hox9IPAUjvsb",
        "outputId": "4c59c36a-1a39-414d-ea34-0a1c71987bcf"
      },
      "execution_count": 37,
      "outputs": [
        {
          "output_type": "stream",
          "name": "stderr",
          "text": [
            "/usr/local/lib/python3.7/dist-packages/sklearn/ensemble/_bagging.py:719: DataConversionWarning: A column-vector y was passed when a 1d array was expected. Please change the shape of y to (n_samples, ), for example using ravel().\n",
            "  y = column_or_1d(y, warn=True)\n"
          ]
        },
        {
          "output_type": "stream",
          "name": "stdout",
          "text": [
            "Checking different metrics for bagging model with default hyper parameters:\n",
            "\n",
            "Training accuracy:  0.9917948717948718\n",
            "Testing accuracy:  0.10602910602910603\n",
            "Fitting 3 folds for each of 27 candidates, totalling 81 fits\n"
          ]
        },
        {
          "output_type": "stream",
          "name": "stderr",
          "text": [
            "/usr/local/lib/python3.7/dist-packages/sklearn/model_selection/_split.py:680: UserWarning: The least populated class in y has only 1 members, which is less than n_splits=3.\n",
            "  UserWarning,\n",
            "/usr/local/lib/python3.7/dist-packages/sklearn/ensemble/_bagging.py:719: DataConversionWarning: A column-vector y was passed when a 1d array was expected. Please change the shape of y to (n_samples, ), for example using ravel().\n",
            "  y = column_or_1d(y, warn=True)\n"
          ]
        },
        {
          "output_type": "stream",
          "name": "stdout",
          "text": [
            "Testing accuracy:  0.0893970893970894\n",
            "The best hyper parameters are:\n",
            " {'max_features': 8, 'max_samples': 150, 'n_estimators': 100}\n"
          ]
        }
      ]
    },
    {
      "cell_type": "code",
      "source": [
        "#Fitting the bagging model with the best hyper parameters obtained through GridSearchCV\n",
        "bagg1 = BaggingClassifier(max_features=5, max_samples=25,n_estimators= 100)\n",
        "bagg1.fit(x_train,y_train)\n",
        "pred_bagg1 = bagg1.predict(x_test)"
      ],
      "metadata": {
        "id": "_FYjecj5j79X",
        "colab": {
          "base_uri": "https://localhost:8080/"
        },
        "outputId": "79426572-2bae-48fe-9cf0-7ddd231b5c86"
      },
      "execution_count": 38,
      "outputs": [
        {
          "output_type": "stream",
          "name": "stderr",
          "text": [
            "/usr/local/lib/python3.7/dist-packages/sklearn/ensemble/_bagging.py:719: DataConversionWarning: A column-vector y was passed when a 1d array was expected. Please change the shape of y to (n_samples, ), for example using ravel().\n",
            "  y = column_or_1d(y, warn=True)\n"
          ]
        }
      ]
    },
    {
      "cell_type": "code",
      "source": [
        "#create metrics.json (optional metrics.txt also)\n",
        "value = {\n",
        "        \"rmse\": rmse\n",
        "    }\n",
        "with open('metrics.json', 'w') as outfile:\n",
        "  outfile.write(json.dumps(value))"
      ],
      "metadata": {
        "id": "_cE0wRA2-66S"
      },
      "execution_count": 39,
      "outputs": []
    },
    {
      "cell_type": "code",
      "source": [
        "#visualization to see if it looks like it matches\n",
        "x_ax = range(len(y_test))\n",
        "plt.tight_layout()\n",
        "fig1 = plt.gcf()\n",
        "plt.plot(x_ax, y_test, label=\"original\")\n",
        "plt.plot(x_ax, preds, label=\"predicted\")\n",
        "plt.title(\"Predicted vs Original data\")\n",
        "plt.legend()\n",
        "plt.show()\n",
        "\n",
        "#create a graph called stats.png\n",
        "fig1.savefig('stats.png', dpi=100)"
      ],
      "metadata": {
        "colab": {
          "base_uri": "https://localhost:8080/",
          "height": 281
        },
        "id": "ZFHAZwiJ_Cvq",
        "outputId": "8f310491-f6a6-42b3-b7fd-d3b14d167908"
      },
      "execution_count": 40,
      "outputs": [
        {
          "output_type": "display_data",
          "data": {
            "text/plain": [
              "<Figure size 432x288 with 1 Axes>"
            ],
            "image/png": "[encoded data removed]"
          },
          "metadata": {
            "needs_background": "light"
          }
        }
      ]
    },
    {
      "cell_type": "code",
      "source": [
        "#submit predictions fo test\n",
        "def submit(model, test):\n",
        "  pred=model.predict(x)"
      ],
      "metadata": {
        "id": "ldiKV7IfAJ9T"
      },
      "execution_count": null,
      "outputs": []
    },
    {
      "cell_type": "code",
      "source": [],
      "metadata": {
        "id": "QkQ-o-W78_G-"
      },
      "execution_count": null,
      "outputs": []
    }
  ]
}